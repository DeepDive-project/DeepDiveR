{
 "cells": [
  {
   "cell_type": "markdown",
   "metadata": {},
   "source": [
    "# Prepping Reptilia Data for Inputting into R Script "
   ]
  },
  {
   "cell_type": "code",
   "execution_count": 2,
   "metadata": {},
   "outputs": [],
   "source": [
    "import pandas as pd"
   ]
  },
  {
   "cell_type": "code",
   "execution_count": 3,
   "metadata": {},
   "outputs": [],
   "source": [
    "rep = pd.read_csv('reptilia_dup.csv')"
   ]
  },
  {
   "cell_type": "code",
   "execution_count": 4,
   "metadata": {},
   "outputs": [
    {
     "data": {
      "text/html": [
       "<div>\n",
       "<style scoped>\n",
       "    .dataframe tbody tr th:only-of-type {\n",
       "        vertical-align: middle;\n",
       "    }\n",
       "\n",
       "    .dataframe tbody tr th {\n",
       "        vertical-align: top;\n",
       "    }\n",
       "\n",
       "    .dataframe thead th {\n",
       "        text-align: right;\n",
       "    }\n",
       "</style>\n",
       "<table border=\"1\" class=\"dataframe\">\n",
       "  <thead>\n",
       "    <tr style=\"text-align: right;\">\n",
       "      <th></th>\n",
       "      <th>occurrence_no</th>\n",
       "      <th>pres_mode</th>\n",
       "      <th>preservation_quality</th>\n",
       "      <th>common_body_parts</th>\n",
       "      <th>abund_value</th>\n",
       "      <th>abund_unit</th>\n",
       "      <th>class</th>\n",
       "      <th>family</th>\n",
       "      <th>genus</th>\n",
       "      <th>taxon_environment</th>\n",
       "      <th>...</th>\n",
       "      <th>artifacts</th>\n",
       "      <th>component_comments</th>\n",
       "      <th>spatial_resolution</th>\n",
       "      <th>temporal_resolution</th>\n",
       "      <th>lagerstatten</th>\n",
       "      <th>concentration</th>\n",
       "      <th>orientation</th>\n",
       "      <th>abund_in_sediment</th>\n",
       "      <th>collection_comments</th>\n",
       "      <th>taxonomy_comments</th>\n",
       "    </tr>\n",
       "  </thead>\n",
       "  <tbody>\n",
       "    <tr>\n",
       "      <th>0</th>\n",
       "      <td>N84</td>\n",
       "      <td>NaN</td>\n",
       "      <td>NaN</td>\n",
       "      <td>an individual seprated from the 11753 b and c ...</td>\n",
       "      <td>NaN</td>\n",
       "      <td>NaN</td>\n",
       "      <td>Reptilia</td>\n",
       "      <td>Rhynchosauridae</td>\n",
       "      <td>Stenaulorhynchus</td>\n",
       "      <td>terrestrial</td>\n",
       "      <td>...</td>\n",
       "      <td>NaN</td>\n",
       "      <td>NaN</td>\n",
       "      <td>NaN</td>\n",
       "      <td>NaN</td>\n",
       "      <td>NaN</td>\n",
       "      <td>NaN</td>\n",
       "      <td>NaN</td>\n",
       "      <td>NaN</td>\n",
       "      <td>NaN</td>\n",
       "      <td>NaN</td>\n",
       "    </tr>\n",
       "    <tr>\n",
       "      <th>1</th>\n",
       "      <td>N83</td>\n",
       "      <td>NaN</td>\n",
       "      <td>NaN</td>\n",
       "      <td>lower jaw and humerus</td>\n",
       "      <td>NaN</td>\n",
       "      <td>NaN</td>\n",
       "      <td>Reptilia</td>\n",
       "      <td>Rhynchosauridae</td>\n",
       "      <td>Mesosuchus</td>\n",
       "      <td>terrestrial</td>\n",
       "      <td>...</td>\n",
       "      <td>NaN</td>\n",
       "      <td>NaN</td>\n",
       "      <td>NaN</td>\n",
       "      <td>NaN</td>\n",
       "      <td>NaN</td>\n",
       "      <td>NaN</td>\n",
       "      <td>NaN</td>\n",
       "      <td>NaN</td>\n",
       "      <td>NaN</td>\n",
       "      <td>NaN</td>\n",
       "    </tr>\n",
       "    <tr>\n",
       "      <th>2</th>\n",
       "      <td>N82</td>\n",
       "      <td>NaN</td>\n",
       "      <td>NaN</td>\n",
       "      <td>foot</td>\n",
       "      <td>NaN</td>\n",
       "      <td>NaN</td>\n",
       "      <td>Reptilia</td>\n",
       "      <td>Rhynchosauridae</td>\n",
       "      <td>Mesosuchus</td>\n",
       "      <td>terrestrial</td>\n",
       "      <td>...</td>\n",
       "      <td>NaN</td>\n",
       "      <td>NaN</td>\n",
       "      <td>NaN</td>\n",
       "      <td>NaN</td>\n",
       "      <td>NaN</td>\n",
       "      <td>NaN</td>\n",
       "      <td>NaN</td>\n",
       "      <td>NaN</td>\n",
       "      <td>NaN</td>\n",
       "      <td>NaN</td>\n",
       "    </tr>\n",
       "    <tr>\n",
       "      <th>3</th>\n",
       "      <td>N81</td>\n",
       "      <td>NaN</td>\n",
       "      <td>NaN</td>\n",
       "      <td>maxilla</td>\n",
       "      <td>NaN</td>\n",
       "      <td>NaN</td>\n",
       "      <td>Reptilia</td>\n",
       "      <td>Rhynchosauridae</td>\n",
       "      <td>Mesosuchus</td>\n",
       "      <td>terrestrial</td>\n",
       "      <td>...</td>\n",
       "      <td>NaN</td>\n",
       "      <td>NaN</td>\n",
       "      <td>NaN</td>\n",
       "      <td>NaN</td>\n",
       "      <td>NaN</td>\n",
       "      <td>NaN</td>\n",
       "      <td>NaN</td>\n",
       "      <td>NaN</td>\n",
       "      <td>NaN</td>\n",
       "      <td>NaN</td>\n",
       "    </tr>\n",
       "    <tr>\n",
       "      <th>4</th>\n",
       "      <td>N80</td>\n",
       "      <td>NaN</td>\n",
       "      <td>NaN</td>\n",
       "      <td>partial skull</td>\n",
       "      <td>NaN</td>\n",
       "      <td>NaN</td>\n",
       "      <td>Reptilia</td>\n",
       "      <td>Rhynchosauridae</td>\n",
       "      <td>Eohyosaurus</td>\n",
       "      <td>terrestrial</td>\n",
       "      <td>...</td>\n",
       "      <td>NaN</td>\n",
       "      <td>NaN</td>\n",
       "      <td>NaN</td>\n",
       "      <td>NaN</td>\n",
       "      <td>NaN</td>\n",
       "      <td>NaN</td>\n",
       "      <td>NaN</td>\n",
       "      <td>NaN</td>\n",
       "      <td>NaN</td>\n",
       "      <td>NaN</td>\n",
       "    </tr>\n",
       "  </tbody>\n",
       "</table>\n",
       "<p>5 rows × 91 columns</p>\n",
       "</div>"
      ],
      "text/plain": [
       "  occurrence_no pres_mode preservation_quality  \\\n",
       "0           N84       NaN                  NaN   \n",
       "1           N83       NaN                  NaN   \n",
       "2           N82       NaN                  NaN   \n",
       "3           N81       NaN                  NaN   \n",
       "4           N80       NaN                  NaN   \n",
       "\n",
       "                                   common_body_parts  abund_value abund_unit  \\\n",
       "0  an individual seprated from the 11753 b and c ...          NaN        NaN   \n",
       "1                              lower jaw and humerus          NaN        NaN   \n",
       "2                                               foot          NaN        NaN   \n",
       "3                                            maxilla          NaN        NaN   \n",
       "4                                      partial skull          NaN        NaN   \n",
       "\n",
       "      class           family             genus taxon_environment  ...  \\\n",
       "0  Reptilia  Rhynchosauridae  Stenaulorhynchus       terrestrial  ...   \n",
       "1  Reptilia  Rhynchosauridae        Mesosuchus       terrestrial  ...   \n",
       "2  Reptilia  Rhynchosauridae        Mesosuchus       terrestrial  ...   \n",
       "3  Reptilia  Rhynchosauridae        Mesosuchus       terrestrial  ...   \n",
       "4  Reptilia  Rhynchosauridae       Eohyosaurus       terrestrial  ...   \n",
       "\n",
       "  artifacts component_comments spatial_resolution temporal_resolution  \\\n",
       "0       NaN                NaN                NaN                 NaN   \n",
       "1       NaN                NaN                NaN                 NaN   \n",
       "2       NaN                NaN                NaN                 NaN   \n",
       "3       NaN                NaN                NaN                 NaN   \n",
       "4       NaN                NaN                NaN                 NaN   \n",
       "\n",
       "  lagerstatten concentration orientation  abund_in_sediment  \\\n",
       "0          NaN           NaN         NaN                NaN   \n",
       "1          NaN           NaN         NaN                NaN   \n",
       "2          NaN           NaN         NaN                NaN   \n",
       "3          NaN           NaN         NaN                NaN   \n",
       "4          NaN           NaN         NaN                NaN   \n",
       "\n",
       "   collection_comments  taxonomy_comments  \n",
       "0                  NaN                NaN  \n",
       "1                  NaN                NaN  \n",
       "2                  NaN                NaN  \n",
       "3                  NaN                NaN  \n",
       "4                  NaN                NaN  \n",
       "\n",
       "[5 rows x 91 columns]"
      ]
     },
     "execution_count": 4,
     "metadata": {},
     "output_type": "execute_result"
    }
   ],
   "source": [
    "# Cursory glance\n",
    "rep.head()"
   ]
  },
  {
   "cell_type": "code",
   "execution_count": 5,
   "metadata": {},
   "outputs": [
    {
     "data": {
      "text/plain": [
       "Index(['occurrence_no', 'pres_mode', 'preservation_quality',\n",
       "       'common_body_parts', 'abund_value', 'abund_unit', 'class', 'family',\n",
       "       'genus', 'taxon_environment', 'life_habit', 'diet', 'early_interval',\n",
       "       'late_interval', 'time_bins', 'museum', 'collection_no', 'age_max',\n",
       "       'age_min', 'age_median', 'age_uncer_range', 'lng', 'lat', 'environment',\n",
       "       'occurrence_comments', 'cc', 'state', 'county', 'formation',\n",
       "       'stratgroup', 'member', 'zone', 'accepted_rank', 'ref_author',\n",
       "       'ref_pubyr', 'reference_no.x', 'collection_name', 'collection_subset',\n",
       "       'collection_aka', 'latlng_basis', 'latlng_precision', 'geogscale',\n",
       "       'geogcomments', 'paleomodel', 'geoplate', 'paleoage', 'paleolng',\n",
       "       'paleolat', 'paleomodel2', 'geoplate2', 'paleoage2', 'paleolng2',\n",
       "       'paleolat2', 'paleomodel3', 'geoplate3', 'paleoage3', 'paleolng3',\n",
       "       'paleolat3', 'protected', 'stratscale', 'localsection', 'localbed',\n",
       "       'stratcomments', 'lithdescript', 'lithology1', 'lithadj1',\n",
       "       'lithification1', 'minor_lithology1', 'fossilsfrom1', 'lithology2',\n",
       "       'lithadj2', 'lithification2', 'minor_lithology2', 'fossilsfrom2',\n",
       "       'tectonic_setting', 'geology_comments', 'assembl_comps',\n",
       "       'articulated_parts', 'associated_parts', 'rare_body_parts',\n",
       "       'feed_pred_traces', 'artifacts', 'component_comments',\n",
       "       'spatial_resolution', 'temporal_resolution', 'lagerstatten',\n",
       "       'concentration', 'orientation', 'abund_in_sediment',\n",
       "       'collection_comments', 'taxonomy_comments'],\n",
       "      dtype='object')"
      ]
     },
     "execution_count": 5,
     "metadata": {},
     "output_type": "execute_result"
    }
   ],
   "source": [
    "rep.columns"
   ]
  },
  {
   "cell_type": "code",
   "execution_count": 10,
   "metadata": {},
   "outputs": [
    {
     "data": {
      "text/html": [
       "<div>\n",
       "<style scoped>\n",
       "    .dataframe tbody tr th:only-of-type {\n",
       "        vertical-align: middle;\n",
       "    }\n",
       "\n",
       "    .dataframe tbody tr th {\n",
       "        vertical-align: top;\n",
       "    }\n",
       "\n",
       "    .dataframe thead th {\n",
       "        text-align: right;\n",
       "    }\n",
       "</style>\n",
       "<table border=\"1\" class=\"dataframe\">\n",
       "  <thead>\n",
       "    <tr style=\"text-align: right;\">\n",
       "      <th></th>\n",
       "      <th>Taxon</th>\n",
       "      <th>Locality</th>\n",
       "      <th>MaxAge</th>\n",
       "      <th>MinAge</th>\n",
       "      <th>Area</th>\n",
       "    </tr>\n",
       "  </thead>\n",
       "  <tbody>\n",
       "    <tr>\n",
       "      <th>0</th>\n",
       "      <td>Stenaulorhynchus</td>\n",
       "      <td>11753</td>\n",
       "      <td>247.2</td>\n",
       "      <td>242.0</td>\n",
       "      <td>Riograndia</td>\n",
       "    </tr>\n",
       "    <tr>\n",
       "      <th>1</th>\n",
       "      <td>Mesosuchus</td>\n",
       "      <td>7838</td>\n",
       "      <td>247.2</td>\n",
       "      <td>242.0</td>\n",
       "      <td>Riograndia</td>\n",
       "    </tr>\n",
       "    <tr>\n",
       "      <th>2</th>\n",
       "      <td>Mesosuchus</td>\n",
       "      <td>6546</td>\n",
       "      <td>247.2</td>\n",
       "      <td>242.0</td>\n",
       "      <td>Riograndia</td>\n",
       "    </tr>\n",
       "    <tr>\n",
       "      <th>3</th>\n",
       "      <td>Mesosuchus</td>\n",
       "      <td>5887</td>\n",
       "      <td>247.2</td>\n",
       "      <td>242.0</td>\n",
       "      <td>Riograndia</td>\n",
       "    </tr>\n",
       "    <tr>\n",
       "      <th>4</th>\n",
       "      <td>Eohyosaurus</td>\n",
       "      <td>K11831</td>\n",
       "      <td>247.2</td>\n",
       "      <td>242.0</td>\n",
       "      <td>Riograndia</td>\n",
       "    </tr>\n",
       "  </tbody>\n",
       "</table>\n",
       "</div>"
      ],
      "text/plain": [
       "              Taxon Locality  MaxAge  MinAge        Area\n",
       "0  Stenaulorhynchus    11753   247.2   242.0  Riograndia\n",
       "1        Mesosuchus     7838   247.2   242.0  Riograndia\n",
       "2        Mesosuchus     6546   247.2   242.0  Riograndia\n",
       "3        Mesosuchus     5887   247.2   242.0  Riograndia\n",
       "4       Eohyosaurus   K11831   247.2   242.0  Riograndia"
      ]
     },
     "execution_count": 10,
     "metadata": {},
     "output_type": "execute_result"
    }
   ],
   "source": [
    "# Filtering to just the columns deepdive needs\n",
    "rep_filtered = rep[['genus', 'collection_no', 'age_max', 'age_min', 'zone']]\n",
    "rep_filtered = rep_filtered.rename(columns={'genus': 'Taxon', 'collection_no': 'Locality', 'zone': 'Area', 'age_max':'MaxAge', 'age_min':'MinAge'})\n",
    "rep_filtered.head()"
   ]
  },
  {
   "cell_type": "code",
   "execution_count": 18,
   "metadata": {},
   "outputs": [
    {
     "name": "stdout",
     "output_type": "stream",
     "text": [
      "<class 'pandas.core.frame.DataFrame'>\n",
      "RangeIndex: 4411 entries, 0 to 4410\n",
      "Data columns (total 5 columns):\n",
      " #   Column    Non-Null Count  Dtype  \n",
      "---  ------    --------------  -----  \n",
      " 0   Taxon     4411 non-null   object \n",
      " 1   Locality  4411 non-null   object \n",
      " 2   MaxAge    4411 non-null   float64\n",
      " 3   MinAge    4411 non-null   float64\n",
      " 4   Area      866 non-null    object \n",
      "dtypes: float64(2), object(3)\n",
      "memory usage: 172.4+ KB\n"
     ]
    }
   ],
   "source": [
    "rep_filtered.info()"
   ]
  },
  {
   "cell_type": "code",
   "execution_count": 11,
   "metadata": {},
   "outputs": [
    {
     "data": {
      "text/plain": [
       "1733"
      ]
     },
     "execution_count": 11,
     "metadata": {},
     "output_type": "execute_result"
    }
   ],
   "source": [
    "# Finding number of unique collection sites\n",
    "len(rep_filtered['Locality'].unique())"
   ]
  },
  {
   "cell_type": "code",
   "execution_count": 16,
   "metadata": {},
   "outputs": [
    {
     "data": {
      "text/plain": [
       "1098"
      ]
     },
     "execution_count": 16,
     "metadata": {},
     "output_type": "execute_result"
    }
   ],
   "source": [
    "# Finding all collection sites with only one instance (singletons)\n",
    "singletons = rep_filtered['Locality'].value_counts()\n",
    "singletons = singletons[singletons == 1]\n",
    "len(singletons)"
   ]
  },
  {
   "cell_type": "code",
   "execution_count": 20,
   "metadata": {},
   "outputs": [
    {
     "data": {
      "text/plain": [
       "Taxon\n",
       "Hovasaurus        301\n",
       "Captorhinus       127\n",
       "Nothosaurus       111\n",
       "Grallator         108\n",
       "Plateosaurus       99\n",
       "                 ... \n",
       "Sophineta           1\n",
       "Czatkowiella        1\n",
       "Sarcosaurus         1\n",
       "Melanorosaurus      1\n",
       "Vonhuenia           1\n",
       "Name: count, Length: 700, dtype: int64"
      ]
     },
     "execution_count": 20,
     "metadata": {},
     "output_type": "execute_result"
    }
   ],
   "source": [
    "# Finding number of unique species\n",
    "rep_filtered['Taxon'].value_counts()"
   ]
  },
  {
   "cell_type": "code",
   "execution_count": 22,
   "metadata": {},
   "outputs": [
    {
     "data": {
      "text/plain": [
       "Area\n",
       "Hyperodapedon                    91\n",
       "Perovkan                         61\n",
       "Dinodontosaurus                  34\n",
       "Ictidosauria                     29\n",
       "Cynognathus subzone C            27\n",
       "                                 ..\n",
       "Lootsbergian                      1\n",
       "pulcher/robustus                  1\n",
       "Daptocephalus Assemblage Zone     1\n",
       "Daptocephalus Assemblage          1\n",
       "IV                                1\n",
       "Name: count, Length: 106, dtype: int64"
      ]
     },
     "execution_count": 22,
     "metadata": {},
     "output_type": "execute_result"
    }
   ],
   "source": [
    "# Finding number of unique Areas\n",
    "rep_filtered['Area'].value_counts()"
   ]
  },
  {
   "cell_type": "code",
   "execution_count": 23,
   "metadata": {},
   "outputs": [],
   "source": [
    "# Saving it off for now\n",
    "rep_filtered.to_csv('reptilia_filtered.csv', index=False)"
   ]
  },
  {
   "cell_type": "code",
   "execution_count": null,
   "metadata": {},
   "outputs": [],
   "source": []
  },
  {
   "cell_type": "code",
   "execution_count": null,
   "metadata": {},
   "outputs": [],
   "source": []
  },
  {
   "cell_type": "code",
   "execution_count": null,
   "metadata": {},
   "outputs": [],
   "source": []
  }
 ],
 "metadata": {
  "kernelspec": {
   "display_name": "deepdive",
   "language": "python",
   "name": "python3"
  },
  "language_info": {
   "codemirror_mode": {
    "name": "ipython",
    "version": 3
   },
   "file_extension": ".py",
   "mimetype": "text/x-python",
   "name": "python",
   "nbconvert_exporter": "python",
   "pygments_lexer": "ipython3",
   "version": "3.12.6"
  }
 },
 "nbformat": 4,
 "nbformat_minor": 2
}
