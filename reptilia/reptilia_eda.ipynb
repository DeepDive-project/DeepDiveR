{
 "cells": [
  {
   "cell_type": "markdown",
   "metadata": {},
   "source": [
    "# Prepping Reptilia Data for Inputting into R Script "
   ]
  },
  {
   "cell_type": "code",
   "execution_count": 23,
   "metadata": {},
   "outputs": [],
   "source": [
    "import pandas as pd"
   ]
  },
  {
   "cell_type": "code",
   "execution_count": 24,
   "metadata": {},
   "outputs": [],
   "source": [
    "rep = pd.read_csv('../../BDNN_Arielli/data/reptilia_dup.csv')"
   ]
  },
  {
   "cell_type": "code",
   "execution_count": 25,
   "metadata": {},
   "outputs": [
    {
     "data": {
      "text/html": [
       "<div>\n",
       "<style scoped>\n",
       "    .dataframe tbody tr th:only-of-type {\n",
       "        vertical-align: middle;\n",
       "    }\n",
       "\n",
       "    .dataframe tbody tr th {\n",
       "        vertical-align: top;\n",
       "    }\n",
       "\n",
       "    .dataframe thead th {\n",
       "        text-align: right;\n",
       "    }\n",
       "</style>\n",
       "<table border=\"1\" class=\"dataframe\">\n",
       "  <thead>\n",
       "    <tr style=\"text-align: right;\">\n",
       "      <th></th>\n",
       "      <th>occurrence_no</th>\n",
       "      <th>pres_mode</th>\n",
       "      <th>preservation_quality</th>\n",
       "      <th>common_body_parts</th>\n",
       "      <th>abund_value</th>\n",
       "      <th>abund_unit</th>\n",
       "      <th>class</th>\n",
       "      <th>family</th>\n",
       "      <th>genus</th>\n",
       "      <th>taxon_environment</th>\n",
       "      <th>...</th>\n",
       "      <th>artifacts</th>\n",
       "      <th>component_comments</th>\n",
       "      <th>spatial_resolution</th>\n",
       "      <th>temporal_resolution</th>\n",
       "      <th>lagerstatten</th>\n",
       "      <th>concentration</th>\n",
       "      <th>orientation</th>\n",
       "      <th>abund_in_sediment</th>\n",
       "      <th>collection_comments</th>\n",
       "      <th>taxonomy_comments</th>\n",
       "    </tr>\n",
       "  </thead>\n",
       "  <tbody>\n",
       "    <tr>\n",
       "      <th>0</th>\n",
       "      <td>N84</td>\n",
       "      <td>NaN</td>\n",
       "      <td>NaN</td>\n",
       "      <td>an individual seprated from the 11753 b and c ...</td>\n",
       "      <td>NaN</td>\n",
       "      <td>NaN</td>\n",
       "      <td>Reptilia</td>\n",
       "      <td>Rhynchosauridae</td>\n",
       "      <td>Stenaulorhynchus</td>\n",
       "      <td>terrestrial</td>\n",
       "      <td>...</td>\n",
       "      <td>NaN</td>\n",
       "      <td>NaN</td>\n",
       "      <td>NaN</td>\n",
       "      <td>NaN</td>\n",
       "      <td>NaN</td>\n",
       "      <td>NaN</td>\n",
       "      <td>NaN</td>\n",
       "      <td>NaN</td>\n",
       "      <td>NaN</td>\n",
       "      <td>NaN</td>\n",
       "    </tr>\n",
       "    <tr>\n",
       "      <th>1</th>\n",
       "      <td>N83</td>\n",
       "      <td>NaN</td>\n",
       "      <td>NaN</td>\n",
       "      <td>lower jaw and humerus</td>\n",
       "      <td>NaN</td>\n",
       "      <td>NaN</td>\n",
       "      <td>Reptilia</td>\n",
       "      <td>Rhynchosauridae</td>\n",
       "      <td>Mesosuchus</td>\n",
       "      <td>terrestrial</td>\n",
       "      <td>...</td>\n",
       "      <td>NaN</td>\n",
       "      <td>NaN</td>\n",
       "      <td>NaN</td>\n",
       "      <td>NaN</td>\n",
       "      <td>NaN</td>\n",
       "      <td>NaN</td>\n",
       "      <td>NaN</td>\n",
       "      <td>NaN</td>\n",
       "      <td>NaN</td>\n",
       "      <td>NaN</td>\n",
       "    </tr>\n",
       "    <tr>\n",
       "      <th>2</th>\n",
       "      <td>N82</td>\n",
       "      <td>NaN</td>\n",
       "      <td>NaN</td>\n",
       "      <td>foot</td>\n",
       "      <td>NaN</td>\n",
       "      <td>NaN</td>\n",
       "      <td>Reptilia</td>\n",
       "      <td>Rhynchosauridae</td>\n",
       "      <td>Mesosuchus</td>\n",
       "      <td>terrestrial</td>\n",
       "      <td>...</td>\n",
       "      <td>NaN</td>\n",
       "      <td>NaN</td>\n",
       "      <td>NaN</td>\n",
       "      <td>NaN</td>\n",
       "      <td>NaN</td>\n",
       "      <td>NaN</td>\n",
       "      <td>NaN</td>\n",
       "      <td>NaN</td>\n",
       "      <td>NaN</td>\n",
       "      <td>NaN</td>\n",
       "    </tr>\n",
       "    <tr>\n",
       "      <th>3</th>\n",
       "      <td>N81</td>\n",
       "      <td>NaN</td>\n",
       "      <td>NaN</td>\n",
       "      <td>maxilla</td>\n",
       "      <td>NaN</td>\n",
       "      <td>NaN</td>\n",
       "      <td>Reptilia</td>\n",
       "      <td>Rhynchosauridae</td>\n",
       "      <td>Mesosuchus</td>\n",
       "      <td>terrestrial</td>\n",
       "      <td>...</td>\n",
       "      <td>NaN</td>\n",
       "      <td>NaN</td>\n",
       "      <td>NaN</td>\n",
       "      <td>NaN</td>\n",
       "      <td>NaN</td>\n",
       "      <td>NaN</td>\n",
       "      <td>NaN</td>\n",
       "      <td>NaN</td>\n",
       "      <td>NaN</td>\n",
       "      <td>NaN</td>\n",
       "    </tr>\n",
       "    <tr>\n",
       "      <th>4</th>\n",
       "      <td>N80</td>\n",
       "      <td>NaN</td>\n",
       "      <td>NaN</td>\n",
       "      <td>partial skull</td>\n",
       "      <td>NaN</td>\n",
       "      <td>NaN</td>\n",
       "      <td>Reptilia</td>\n",
       "      <td>Rhynchosauridae</td>\n",
       "      <td>Eohyosaurus</td>\n",
       "      <td>terrestrial</td>\n",
       "      <td>...</td>\n",
       "      <td>NaN</td>\n",
       "      <td>NaN</td>\n",
       "      <td>NaN</td>\n",
       "      <td>NaN</td>\n",
       "      <td>NaN</td>\n",
       "      <td>NaN</td>\n",
       "      <td>NaN</td>\n",
       "      <td>NaN</td>\n",
       "      <td>NaN</td>\n",
       "      <td>NaN</td>\n",
       "    </tr>\n",
       "  </tbody>\n",
       "</table>\n",
       "<p>5 rows × 91 columns</p>\n",
       "</div>"
      ],
      "text/plain": [
       "  occurrence_no pres_mode preservation_quality  \\\n",
       "0           N84       NaN                  NaN   \n",
       "1           N83       NaN                  NaN   \n",
       "2           N82       NaN                  NaN   \n",
       "3           N81       NaN                  NaN   \n",
       "4           N80       NaN                  NaN   \n",
       "\n",
       "                                   common_body_parts  abund_value abund_unit  \\\n",
       "0  an individual seprated from the 11753 b and c ...          NaN        NaN   \n",
       "1                              lower jaw and humerus          NaN        NaN   \n",
       "2                                               foot          NaN        NaN   \n",
       "3                                            maxilla          NaN        NaN   \n",
       "4                                      partial skull          NaN        NaN   \n",
       "\n",
       "      class           family             genus taxon_environment  ...  \\\n",
       "0  Reptilia  Rhynchosauridae  Stenaulorhynchus       terrestrial  ...   \n",
       "1  Reptilia  Rhynchosauridae        Mesosuchus       terrestrial  ...   \n",
       "2  Reptilia  Rhynchosauridae        Mesosuchus       terrestrial  ...   \n",
       "3  Reptilia  Rhynchosauridae        Mesosuchus       terrestrial  ...   \n",
       "4  Reptilia  Rhynchosauridae       Eohyosaurus       terrestrial  ...   \n",
       "\n",
       "  artifacts component_comments spatial_resolution temporal_resolution  \\\n",
       "0       NaN                NaN                NaN                 NaN   \n",
       "1       NaN                NaN                NaN                 NaN   \n",
       "2       NaN                NaN                NaN                 NaN   \n",
       "3       NaN                NaN                NaN                 NaN   \n",
       "4       NaN                NaN                NaN                 NaN   \n",
       "\n",
       "  lagerstatten concentration orientation  abund_in_sediment  \\\n",
       "0          NaN           NaN         NaN                NaN   \n",
       "1          NaN           NaN         NaN                NaN   \n",
       "2          NaN           NaN         NaN                NaN   \n",
       "3          NaN           NaN         NaN                NaN   \n",
       "4          NaN           NaN         NaN                NaN   \n",
       "\n",
       "   collection_comments  taxonomy_comments  \n",
       "0                  NaN                NaN  \n",
       "1                  NaN                NaN  \n",
       "2                  NaN                NaN  \n",
       "3                  NaN                NaN  \n",
       "4                  NaN                NaN  \n",
       "\n",
       "[5 rows x 91 columns]"
      ]
     },
     "execution_count": 25,
     "metadata": {},
     "output_type": "execute_result"
    }
   ],
   "source": [
    "# Cursory glance\n",
    "rep.head()"
   ]
  },
  {
   "cell_type": "code",
   "execution_count": 26,
   "metadata": {},
   "outputs": [
    {
     "data": {
      "text/plain": [
       "Index(['occurrence_no', 'pres_mode', 'preservation_quality',\n",
       "       'common_body_parts', 'abund_value', 'abund_unit', 'class', 'family',\n",
       "       'genus', 'taxon_environment', 'life_habit', 'diet', 'early_interval',\n",
       "       'late_interval', 'time_bins', 'museum', 'collection_no', 'age_max',\n",
       "       'age_min', 'age_median', 'age_uncer_range', 'lng', 'lat', 'environment',\n",
       "       'occurrence_comments', 'cc', 'state', 'county', 'formation',\n",
       "       'stratgroup', 'member', 'zone', 'accepted_rank', 'ref_author',\n",
       "       'ref_pubyr', 'reference_no.x', 'collection_name', 'collection_subset',\n",
       "       'collection_aka', 'latlng_basis', 'latlng_precision', 'geogscale',\n",
       "       'geogcomments', 'paleomodel', 'geoplate', 'paleoage', 'paleolng',\n",
       "       'paleolat', 'paleomodel2', 'geoplate2', 'paleoage2', 'paleolng2',\n",
       "       'paleolat2', 'paleomodel3', 'geoplate3', 'paleoage3', 'paleolng3',\n",
       "       'paleolat3', 'protected', 'stratscale', 'localsection', 'localbed',\n",
       "       'stratcomments', 'lithdescript', 'lithology1', 'lithadj1',\n",
       "       'lithification1', 'minor_lithology1', 'fossilsfrom1', 'lithology2',\n",
       "       'lithadj2', 'lithification2', 'minor_lithology2', 'fossilsfrom2',\n",
       "       'tectonic_setting', 'geology_comments', 'assembl_comps',\n",
       "       'articulated_parts', 'associated_parts', 'rare_body_parts',\n",
       "       'feed_pred_traces', 'artifacts', 'component_comments',\n",
       "       'spatial_resolution', 'temporal_resolution', 'lagerstatten',\n",
       "       'concentration', 'orientation', 'abund_in_sediment',\n",
       "       'collection_comments', 'taxonomy_comments'],\n",
       "      dtype='object')"
      ]
     },
     "execution_count": 26,
     "metadata": {},
     "output_type": "execute_result"
    }
   ],
   "source": [
    "rep.columns"
   ]
  },
  {
   "cell_type": "markdown",
   "metadata": {},
   "source": [
    "### Choosing an \"Area\" Column\n",
    "\n",
    "'collection_no\" will definitely be \"Locality\" column in the final table\n",
    "\n",
    "'genus' will definitely be \"Taxon\" column in the final table\n",
    "\n",
    "**Now I need to choose a 'Area' column**\n"
   ]
  },
  {
   "cell_type": "code",
   "execution_count": 27,
   "metadata": {},
   "outputs": [
    {
     "data": {
      "text/plain": [
       "(3545, 8)"
      ]
     },
     "execution_count": 27,
     "metadata": {},
     "output_type": "execute_result"
    }
   ],
   "source": [
    "# Looking for Nulls in the potential \"Area\" columns\n",
    "nulls_zone = rep[rep['zone'].isnull()]\n",
    "nulls_cc = rep[rep['cc'].isnull()]\n",
    "len(nulls_zone), len(nulls_cc)\n"
   ]
  },
  {
   "cell_type": "code",
   "execution_count": 28,
   "metadata": {},
   "outputs": [
    {
     "data": {
      "text/plain": [
       "(107, 52)"
      ]
     },
     "execution_count": 28,
     "metadata": {},
     "output_type": "execute_result"
    }
   ],
   "source": [
    "# Seeing how many unique values are in the potential \"Area\" columns\n",
    "len(rep['zone'].unique()), len(rep['cc'].unique())\n"
   ]
  },
  {
   "cell_type": "markdown",
   "metadata": {},
   "source": [
    "'zone' column has more nulls and more unique values, so I'm going to go for the 'cc' column as the 'Area' column in the final dataset"
   ]
  },
  {
   "cell_type": "code",
   "execution_count": 29,
   "metadata": {},
   "outputs": [
    {
     "data": {
      "text/html": [
       "<div>\n",
       "<style scoped>\n",
       "    .dataframe tbody tr th:only-of-type {\n",
       "        vertical-align: middle;\n",
       "    }\n",
       "\n",
       "    .dataframe tbody tr th {\n",
       "        vertical-align: top;\n",
       "    }\n",
       "\n",
       "    .dataframe thead th {\n",
       "        text-align: right;\n",
       "    }\n",
       "</style>\n",
       "<table border=\"1\" class=\"dataframe\">\n",
       "  <thead>\n",
       "    <tr style=\"text-align: right;\">\n",
       "      <th></th>\n",
       "      <th>Taxon</th>\n",
       "      <th>Locality</th>\n",
       "      <th>MaxAge</th>\n",
       "      <th>MinAge</th>\n",
       "      <th>Area</th>\n",
       "    </tr>\n",
       "  </thead>\n",
       "  <tbody>\n",
       "    <tr>\n",
       "      <th>0</th>\n",
       "      <td>Stenaulorhynchus</td>\n",
       "      <td>11753</td>\n",
       "      <td>247.2</td>\n",
       "      <td>242.0</td>\n",
       "      <td>TZ</td>\n",
       "    </tr>\n",
       "    <tr>\n",
       "      <th>1</th>\n",
       "      <td>Mesosuchus</td>\n",
       "      <td>7838</td>\n",
       "      <td>247.2</td>\n",
       "      <td>242.0</td>\n",
       "      <td>ZA</td>\n",
       "    </tr>\n",
       "    <tr>\n",
       "      <th>2</th>\n",
       "      <td>Mesosuchus</td>\n",
       "      <td>6546</td>\n",
       "      <td>247.2</td>\n",
       "      <td>242.0</td>\n",
       "      <td>ZA</td>\n",
       "    </tr>\n",
       "    <tr>\n",
       "      <th>3</th>\n",
       "      <td>Mesosuchus</td>\n",
       "      <td>5887</td>\n",
       "      <td>247.2</td>\n",
       "      <td>242.0</td>\n",
       "      <td>ZA</td>\n",
       "    </tr>\n",
       "    <tr>\n",
       "      <th>4</th>\n",
       "      <td>Eohyosaurus</td>\n",
       "      <td>K11831</td>\n",
       "      <td>247.2</td>\n",
       "      <td>242.0</td>\n",
       "      <td>ZA</td>\n",
       "    </tr>\n",
       "  </tbody>\n",
       "</table>\n",
       "</div>"
      ],
      "text/plain": [
       "              Taxon Locality  MaxAge  MinAge Area\n",
       "0  Stenaulorhynchus    11753   247.2   242.0   TZ\n",
       "1        Mesosuchus     7838   247.2   242.0   ZA\n",
       "2        Mesosuchus     6546   247.2   242.0   ZA\n",
       "3        Mesosuchus     5887   247.2   242.0   ZA\n",
       "4       Eohyosaurus   K11831   247.2   242.0   ZA"
      ]
     },
     "execution_count": 29,
     "metadata": {},
     "output_type": "execute_result"
    }
   ],
   "source": [
    "# Filtering to just the columns deepdive needs\n",
    "rep_filtered = rep[['genus', 'collection_no', 'age_max', 'age_min', 'cc']]\n",
    "rep_filtered = rep_filtered.rename(columns={'genus': 'Taxon', 'collection_no': 'Locality', 'cc': 'Area', 'age_max':'MaxAge', 'age_min':'MinAge'})\n",
    "rep_filtered.head()"
   ]
  },
  {
   "cell_type": "markdown",
   "metadata": {},
   "source": [
    "### Imputing any Nulls\n"
   ]
  },
  {
   "cell_type": "code",
   "execution_count": 33,
   "metadata": {},
   "outputs": [
    {
     "data": {
      "text/plain": [
       "Taxon       0\n",
       "Locality    0\n",
       "MaxAge      0\n",
       "MinAge      0\n",
       "Area        8\n",
       "dtype: int64"
      ]
     },
     "execution_count": 33,
     "metadata": {},
     "output_type": "execute_result"
    }
   ],
   "source": [
    "# Only 'Area' has nulls\n",
    "rep_filtered.isna().sum()"
   ]
  },
  {
   "cell_type": "code",
   "execution_count": 35,
   "metadata": {},
   "outputs": [
    {
     "data": {
      "text/html": [
       "<div>\n",
       "<style scoped>\n",
       "    .dataframe tbody tr th:only-of-type {\n",
       "        vertical-align: middle;\n",
       "    }\n",
       "\n",
       "    .dataframe tbody tr th {\n",
       "        vertical-align: top;\n",
       "    }\n",
       "\n",
       "    .dataframe thead th {\n",
       "        text-align: right;\n",
       "    }\n",
       "</style>\n",
       "<table border=\"1\" class=\"dataframe\">\n",
       "  <thead>\n",
       "    <tr style=\"text-align: right;\">\n",
       "      <th></th>\n",
       "      <th>Taxon</th>\n",
       "      <th>Locality</th>\n",
       "      <th>MaxAge</th>\n",
       "      <th>MinAge</th>\n",
       "      <th>Area</th>\n",
       "    </tr>\n",
       "  </thead>\n",
       "  <tbody>\n",
       "    <tr>\n",
       "      <th>2762</th>\n",
       "      <td>Mesosaurus</td>\n",
       "      <td>90780</td>\n",
       "      <td>290.1</td>\n",
       "      <td>283.5</td>\n",
       "      <td>NaN</td>\n",
       "    </tr>\n",
       "    <tr>\n",
       "      <th>2763</th>\n",
       "      <td>Mesosaurus</td>\n",
       "      <td>90755</td>\n",
       "      <td>290.1</td>\n",
       "      <td>283.5</td>\n",
       "      <td>NaN</td>\n",
       "    </tr>\n",
       "    <tr>\n",
       "      <th>2764</th>\n",
       "      <td>Mesosaurus</td>\n",
       "      <td>90755</td>\n",
       "      <td>290.1</td>\n",
       "      <td>283.5</td>\n",
       "      <td>NaN</td>\n",
       "    </tr>\n",
       "    <tr>\n",
       "      <th>3721</th>\n",
       "      <td>Plateosaurus</td>\n",
       "      <td>64316</td>\n",
       "      <td>208.5</td>\n",
       "      <td>201.4</td>\n",
       "      <td>NaN</td>\n",
       "    </tr>\n",
       "    <tr>\n",
       "      <th>4259</th>\n",
       "      <td>Mesosaurus</td>\n",
       "      <td>28471</td>\n",
       "      <td>290.1</td>\n",
       "      <td>283.5</td>\n",
       "      <td>NaN</td>\n",
       "    </tr>\n",
       "    <tr>\n",
       "      <th>4260</th>\n",
       "      <td>Mesosaurus</td>\n",
       "      <td>28470</td>\n",
       "      <td>290.1</td>\n",
       "      <td>283.5</td>\n",
       "      <td>NaN</td>\n",
       "    </tr>\n",
       "    <tr>\n",
       "      <th>4261</th>\n",
       "      <td>Mesosaurus</td>\n",
       "      <td>28469</td>\n",
       "      <td>290.1</td>\n",
       "      <td>283.5</td>\n",
       "      <td>NaN</td>\n",
       "    </tr>\n",
       "    <tr>\n",
       "      <th>4262</th>\n",
       "      <td>Mesosaurus</td>\n",
       "      <td>28468</td>\n",
       "      <td>290.1</td>\n",
       "      <td>283.5</td>\n",
       "      <td>NaN</td>\n",
       "    </tr>\n",
       "  </tbody>\n",
       "</table>\n",
       "</div>"
      ],
      "text/plain": [
       "             Taxon Locality  MaxAge  MinAge Area\n",
       "2762    Mesosaurus    90780   290.1   283.5  NaN\n",
       "2763    Mesosaurus    90755   290.1   283.5  NaN\n",
       "2764    Mesosaurus    90755   290.1   283.5  NaN\n",
       "3721  Plateosaurus    64316   208.5   201.4  NaN\n",
       "4259    Mesosaurus    28471   290.1   283.5  NaN\n",
       "4260    Mesosaurus    28470   290.1   283.5  NaN\n",
       "4261    Mesosaurus    28469   290.1   283.5  NaN\n",
       "4262    Mesosaurus    28468   290.1   283.5  NaN"
      ]
     },
     "execution_count": 35,
     "metadata": {},
     "output_type": "execute_result"
    }
   ],
   "source": [
    "# Looking at those nulls\n",
    "rep_filtered[rep_filtered['Area'].isna()]"
   ]
  },
  {
   "cell_type": "code",
   "execution_count": 41,
   "metadata": {},
   "outputs": [],
   "source": [
    "# Seeing if the locality with nulls in 'Area' has any other entries. \n",
    "# If it does, we can infer the 'Area' with info from the other entries\n",
    "null1 = rep[rep['collection_no'] == \"90780\"]\n",
    "null2 = rep[rep['collection_no'] == \"90755\"]\n",
    "null3 = rep[rep['collection_no'] == \"64316\"]\n",
    "null4 = rep[rep['collection_no'] == \"28471\"]\n",
    "null5 = rep[rep['collection_no'] == \"28470\"]\n",
    "null6 = rep[rep['collection_no'] == \"28469\"]\n",
    "null7 = rep[rep['collection_no'] == \"28468\"]"
   ]
  },
  {
   "cell_type": "code",
   "execution_count": 43,
   "metadata": {},
   "outputs": [
    {
     "data": {
      "text/plain": [
       "(1, 2, 1, 1, 1, 1, 1)"
      ]
     },
     "execution_count": 43,
     "metadata": {},
     "output_type": "execute_result"
    }
   ],
   "source": [
    "# Seeing length of null entries for those localities\n",
    "len(null1), len(null2), len(null3), len(null4), len(null5), len(null6), len(null7)\n",
    "# Only null2 has >1"
   ]
  },
  {
   "cell_type": "code",
   "execution_count": 46,
   "metadata": {},
   "outputs": [
    {
     "data": {
      "text/html": [
       "<div>\n",
       "<style scoped>\n",
       "    .dataframe tbody tr th:only-of-type {\n",
       "        vertical-align: middle;\n",
       "    }\n",
       "\n",
       "    .dataframe tbody tr th {\n",
       "        vertical-align: top;\n",
       "    }\n",
       "\n",
       "    .dataframe thead th {\n",
       "        text-align: right;\n",
       "    }\n",
       "</style>\n",
       "<table border=\"1\" class=\"dataframe\">\n",
       "  <thead>\n",
       "    <tr style=\"text-align: right;\">\n",
       "      <th></th>\n",
       "      <th>cc</th>\n",
       "      <th>state</th>\n",
       "      <th>county</th>\n",
       "      <th>formation</th>\n",
       "      <th>stratgroup</th>\n",
       "      <th>member</th>\n",
       "      <th>zone</th>\n",
       "      <th>collection_no</th>\n",
       "    </tr>\n",
       "  </thead>\n",
       "  <tbody>\n",
       "    <tr>\n",
       "      <th>2763</th>\n",
       "      <td>NaN</td>\n",
       "      <td>Karas</td>\n",
       "      <td>NaN</td>\n",
       "      <td>Whitehill</td>\n",
       "      <td>Ecca</td>\n",
       "      <td>NaN</td>\n",
       "      <td>NaN</td>\n",
       "      <td>90755</td>\n",
       "    </tr>\n",
       "    <tr>\n",
       "      <th>2764</th>\n",
       "      <td>NaN</td>\n",
       "      <td>Karas</td>\n",
       "      <td>NaN</td>\n",
       "      <td>Whitehill</td>\n",
       "      <td>Ecca</td>\n",
       "      <td>NaN</td>\n",
       "      <td>NaN</td>\n",
       "      <td>90755</td>\n",
       "    </tr>\n",
       "  </tbody>\n",
       "</table>\n",
       "</div>"
      ],
      "text/plain": [
       "       cc  state county  formation stratgroup member zone collection_no\n",
       "2763  NaN  Karas    NaN  Whitehill       Ecca    NaN  NaN         90755\n",
       "2764  NaN  Karas    NaN  Whitehill       Ecca    NaN  NaN         90755"
      ]
     },
     "execution_count": 46,
     "metadata": {},
     "output_type": "execute_result"
    }
   ],
   "source": [
    "null2[['cc', 'state', 'county', 'formation', 'stratgroup', 'member', 'zone', 'collection_no']]\n"
   ]
  },
  {
   "cell_type": "code",
   "execution_count": 50,
   "metadata": {},
   "outputs": [
    {
     "data": {
      "text/html": [
       "<div>\n",
       "<style scoped>\n",
       "    .dataframe tbody tr th:only-of-type {\n",
       "        vertical-align: middle;\n",
       "    }\n",
       "\n",
       "    .dataframe tbody tr th {\n",
       "        vertical-align: top;\n",
       "    }\n",
       "\n",
       "    .dataframe thead th {\n",
       "        text-align: right;\n",
       "    }\n",
       "</style>\n",
       "<table border=\"1\" class=\"dataframe\">\n",
       "  <thead>\n",
       "    <tr style=\"text-align: right;\">\n",
       "      <th></th>\n",
       "      <th>occurrence_no</th>\n",
       "      <th>pres_mode</th>\n",
       "      <th>preservation_quality</th>\n",
       "      <th>common_body_parts</th>\n",
       "      <th>abund_value</th>\n",
       "      <th>abund_unit</th>\n",
       "      <th>class</th>\n",
       "      <th>family</th>\n",
       "      <th>genus</th>\n",
       "      <th>taxon_environment</th>\n",
       "      <th>...</th>\n",
       "      <th>artifacts</th>\n",
       "      <th>component_comments</th>\n",
       "      <th>spatial_resolution</th>\n",
       "      <th>temporal_resolution</th>\n",
       "      <th>lagerstatten</th>\n",
       "      <th>concentration</th>\n",
       "      <th>orientation</th>\n",
       "      <th>abund_in_sediment</th>\n",
       "      <th>collection_comments</th>\n",
       "      <th>taxonomy_comments</th>\n",
       "    </tr>\n",
       "  </thead>\n",
       "  <tbody>\n",
       "  </tbody>\n",
       "</table>\n",
       "<p>0 rows × 91 columns</p>\n",
       "</div>"
      ],
      "text/plain": [
       "Empty DataFrame\n",
       "Columns: [occurrence_no, pres_mode, preservation_quality, common_body_parts, abund_value, abund_unit, class, family, genus, taxon_environment, life_habit, diet, early_interval, late_interval, time_bins, museum, collection_no, age_max, age_min, age_median, age_uncer_range, lng, lat, environment, occurrence_comments, cc, state, county, formation, stratgroup, member, zone, accepted_rank, ref_author, ref_pubyr, reference_no.x, collection_name, collection_subset, collection_aka, latlng_basis, latlng_precision, geogscale, geogcomments, paleomodel, geoplate, paleoage, paleolng, paleolat, paleomodel2, geoplate2, paleoage2, paleolng2, paleolat2, paleomodel3, geoplate3, paleoage3, paleolng3, paleolat3, protected, stratscale, localsection, localbed, stratcomments, lithdescript, lithology1, lithadj1, lithification1, minor_lithology1, fossilsfrom1, lithology2, lithadj2, lithification2, minor_lithology2, fossilsfrom2, tectonic_setting, geology_comments, assembl_comps, articulated_parts, associated_parts, rare_body_parts, feed_pred_traces, artifacts, component_comments, spatial_resolution, temporal_resolution, lagerstatten, concentration, orientation, abund_in_sediment, collection_comments, taxonomy_comments]\n",
       "Index: []\n",
       "\n",
       "[0 rows x 91 columns]"
      ]
     },
     "execution_count": 50,
     "metadata": {},
     "output_type": "execute_result"
    }
   ],
   "source": [
    "rep[rep['cc'] == 'Karas']"
   ]
  },
  {
   "cell_type": "code",
   "execution_count": 51,
   "metadata": {},
   "outputs": [
    {
     "name": "stdout",
     "output_type": "stream",
     "text": [
      "<class 'pandas.core.frame.DataFrame'>\n",
      "RangeIndex: 4411 entries, 0 to 4410\n",
      "Data columns (total 5 columns):\n",
      " #   Column    Non-Null Count  Dtype  \n",
      "---  ------    --------------  -----  \n",
      " 0   Taxon     4411 non-null   object \n",
      " 1   Locality  4411 non-null   object \n",
      " 2   MaxAge    4411 non-null   float64\n",
      " 3   MinAge    4411 non-null   float64\n",
      " 4   Area      4403 non-null   object \n",
      "dtypes: float64(2), object(3)\n",
      "memory usage: 172.4+ KB\n"
     ]
    }
   ],
   "source": [
    "# There are no reasonable values for these nulls to be imputed with, so I'll just drop them\n",
    "# Checking original length of filtered df\n",
    "rep_filtered.info()"
   ]
  },
  {
   "cell_type": "code",
   "execution_count": 52,
   "metadata": {},
   "outputs": [
    {
     "name": "stdout",
     "output_type": "stream",
     "text": [
      "<class 'pandas.core.frame.DataFrame'>\n",
      "Index: 4403 entries, 0 to 4410\n",
      "Data columns (total 5 columns):\n",
      " #   Column    Non-Null Count  Dtype  \n",
      "---  ------    --------------  -----  \n",
      " 0   Taxon     4403 non-null   object \n",
      " 1   Locality  4403 non-null   object \n",
      " 2   MaxAge    4403 non-null   float64\n",
      " 3   MinAge    4403 non-null   float64\n",
      " 4   Area      4403 non-null   object \n",
      "dtypes: float64(2), object(3)\n",
      "memory usage: 206.4+ KB\n"
     ]
    }
   ],
   "source": [
    "# Dropping nulls, new df's length is correct\n",
    "rep_filtered_dropped = rep_filtered.dropna()\n",
    "rep_filtered_dropped.info()"
   ]
  },
  {
   "cell_type": "code",
   "execution_count": 10,
   "metadata": {},
   "outputs": [
    {
     "data": {
      "text/plain": [
       "32"
      ]
     },
     "execution_count": 10,
     "metadata": {},
     "output_type": "execute_result"
    }
   ],
   "source": [
    "# Checking unique values for each column\n",
    "rep_filtered_dropped['Taxon'].unique(), rep_filtered_dropped['Area'].unique(), rep_filtered_dropped['Locality'].unique()"
   ]
  },
  {
   "cell_type": "code",
   "execution_count": null,
   "metadata": {},
   "outputs": [],
   "source": [
    "# Creating visual representation of value counts\n",
    "rep_filtered_dropped['Taxon'].value_counts().plot(kind='bar')\n",
    "# rep_filtered_dropped['Area'].value_counts().plot(kind='bar')\n",
    "# rep_filtered_dropped['Locality'].value_counts().plot(kind='bar')"
   ]
  },
  {
   "cell_type": "markdown",
   "metadata": {},
   "source": [
    "### 'Locality' EDA"
   ]
  },
  {
   "cell_type": "code",
   "execution_count": 16,
   "metadata": {},
   "outputs": [
    {
     "data": {
      "text/plain": [
       "1098"
      ]
     },
     "execution_count": 16,
     "metadata": {},
     "output_type": "execute_result"
    }
   ],
   "source": [
    "# Finding all collection sites with only one instance (singletons)\n",
    "singletons = rep_filtered_dropped['Locality'].value_counts()\n",
    "singletons = singletons[singletons == 1]\n",
    "len(singletons)"
   ]
  },
  {
   "cell_type": "code",
   "execution_count": 23,
   "metadata": {},
   "outputs": [],
   "source": [
    "# Saving it off for now\n",
    "rep_filtered_dropped.to_csv('reptilia_filtered.csv', index=False)"
   ]
  },
  {
   "cell_type": "code",
   "execution_count": null,
   "metadata": {},
   "outputs": [],
   "source": []
  },
  {
   "cell_type": "code",
   "execution_count": null,
   "metadata": {},
   "outputs": [],
   "source": []
  },
  {
   "cell_type": "code",
   "execution_count": null,
   "metadata": {},
   "outputs": [],
   "source": []
  }
 ],
 "metadata": {
  "kernelspec": {
   "display_name": "deepdive",
   "language": "python",
   "name": "python3"
  },
  "language_info": {
   "codemirror_mode": {
    "name": "ipython",
    "version": 3
   },
   "file_extension": ".py",
   "mimetype": "text/x-python",
   "name": "python",
   "nbconvert_exporter": "python",
   "pygments_lexer": "ipython3",
   "version": "3.12.6"
  }
 },
 "nbformat": 4,
 "nbformat_minor": 2
}
